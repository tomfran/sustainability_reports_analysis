{
 "cells": [
  {
   "cell_type": "markdown",
   "metadata": {
    "scrolled": true
   },
   "source": [
    "# Sustainability reports analysis\n",
    "\n",
    "# Introduzione\n",
    "\n",
    "L'obbiettivo della repository è quello di estrarre informazioni sui bilanci di sostenibilitò delle aziende italiane pubblicati nell'anno 2018.\n",
    "\n",
    "# Processo\n",
    " \n",
    "Il processo per ottenere l'indice da analizzare è così composto:\n",
    "\n",
    "1. processing di un file csv contentente siti e web e link presenti su essi\n",
    "2. download dei file ritenuti utili all'analisi\n",
    "3. estrazione del testo dai file scaricati\n",
    "4. indicizzazione elasticsearch con le informazioni estratte dalle aziene e delle entità estratte dai testi dei documenti\n",
    "\n",
    "# Processing link csv\n",
    "\n",
    "Il punto di partenza è costituito da un csv con un insieme di coppie __website__ , __pdf_dump__:\n",
    "\n",
    "- Il primo è il dominio del sito web di cui sono stati estratti i pdf.\n",
    "- Il secondo è una lista di oggetti che contengono:\n",
    "\n",
    "    1. Url della pagina a cui è stato trovato il link\n",
    "    2. Url del file pdf in questione\n",
    "    3. Anchor del file nella pagina\n",
    "    4. Sequenza di blocchi html in cui si trova l'anchor\n",
    "    \n",
    "L'obbiettivo della prima fase è quello di estrarre dal totale dei link, solo quelli utili, ovvero quelli che possono rappresentare un probabile bilancio di sostenibilità 2018.\n",
    "\n",
    "Prendiamo per semplicità un insieme ridotto e applichiamo il processo in questione."
   ]
  },
  {
   "cell_type": "code",
   "execution_count": 1,
   "metadata": {},
   "outputs": [
    {
     "data": {
      "text/html": [
       "<div>\n",
       "<style scoped>\n",
       "    .dataframe tbody tr th:only-of-type {\n",
       "        vertical-align: middle;\n",
       "    }\n",
       "\n",
       "    .dataframe tbody tr th {\n",
       "        vertical-align: top;\n",
       "    }\n",
       "\n",
       "    .dataframe thead th {\n",
       "        text-align: right;\n",
       "    }\n",
       "</style>\n",
       "<table border=\"1\" class=\"dataframe\">\n",
       "  <thead>\n",
       "    <tr style=\"text-align: right;\">\n",
       "      <th></th>\n",
       "      <th>domain</th>\n",
       "      <th>pdf_dump</th>\n",
       "    </tr>\n",
       "  </thead>\n",
       "  <tbody>\n",
       "    <tr>\n",
       "      <th>0</th>\n",
       "      <td>www.iav.com</td>\n",
       "      <td>[{\"sourcePageUrl\":\"https://www.iav.com/en/comp...</td>\n",
       "    </tr>\n",
       "    <tr>\n",
       "      <th>1</th>\n",
       "      <td>www.enel.com</td>\n",
       "      <td>[{\"sourcePageUrl\":\"https://www.enel.com/es/his...</td>\n",
       "    </tr>\n",
       "    <tr>\n",
       "      <th>2</th>\n",
       "      <td>www.icpaoloterzo.edu.it</td>\n",
       "      <td>[{\"sourcePageUrl\":\"https://www.icpaoloterzo.ed...</td>\n",
       "    </tr>\n",
       "    <tr>\n",
       "      <th>3</th>\n",
       "      <td>www.cartadaformaggio.it</td>\n",
       "      <td>[{\"sourcePageUrl\":\"http://www.cartadaformaggio...</td>\n",
       "    </tr>\n",
       "    <tr>\n",
       "      <th>4</th>\n",
       "      <td>www.cartadimilano.org</td>\n",
       "      <td>[{\"sourcePageUrl\":\"http://www.cartadimilano.or...</td>\n",
       "    </tr>\n",
       "  </tbody>\n",
       "</table>\n",
       "</div>"
      ],
      "text/plain": [
       "                    domain                                           pdf_dump\n",
       "0              www.iav.com  [{\"sourcePageUrl\":\"https://www.iav.com/en/comp...\n",
       "1             www.enel.com  [{\"sourcePageUrl\":\"https://www.enel.com/es/his...\n",
       "2  www.icpaoloterzo.edu.it  [{\"sourcePageUrl\":\"https://www.icpaoloterzo.ed...\n",
       "3  www.cartadaformaggio.it  [{\"sourcePageUrl\":\"http://www.cartadaformaggio...\n",
       "4    www.cartadimilano.org  [{\"sourcePageUrl\":\"http://www.cartadimilano.or..."
      ]
     },
     "execution_count": 1,
     "metadata": {},
     "output_type": "execute_result"
    }
   ],
   "source": [
    "import pandas as pd\n",
    "\n",
    "csv_source = \"samples/small.csv\"\n",
    "\n",
    "data = pd.read_csv(csv_source) \n",
    "data.head()"
   ]
  },
  {
   "cell_type": "markdown",
   "metadata": {},
   "source": [
    "La procedura legge da un file di input e restituisce un dizionario contenente:\n",
    "\n",
    "__website__: lista di __link__, con url e score."
   ]
  },
  {
   "cell_type": "code",
   "execution_count": 2,
   "metadata": {},
   "outputs": [
    {
     "name": "stdout",
     "output_type": "stream",
     "text": [
      "{\n",
      "  \"www.iav.com\": [\n",
      "    {\n",
      "      \"url\": \"https://www.iav.com/app/uploads/2019/02/IAV_Sustainability_Report_2018.pdf\",\n",
      "      \"score\": 60\n",
      "    }\n",
      "  ],\n",
      "  \"www.enel.com\": [\n",
      "    {\n",
      "      \"url\": \"https://www.enel.com/content/dam/enel-com/governance_pdf/reports/bilanci-annuali/2018/bilancio-di-sostenibilita-2018.pdf\",\n",
      "      \"score\": 60\n",
      "    },\n",
      "    {\n",
      "      \"url\": \"https://www.enel.com/content/dam/enel-com/governance_pdf/reports/annual-financial-report/2018/sustainability-report-2018.pdf\",\n",
      "      \"score\": 60\n",
      "    }\n",
      "  ]\n",
      "}\n",
      "\n"
     ]
    },
    {
     "ename": "TypeError",
     "evalue": "listdir: path should be string, bytes, os.PathLike, integer or None, not tuple",
     "output_type": "error",
     "traceback": [
      "\u001b[0;31m---------------------------------------------------------------------------\u001b[0m",
      "\u001b[0;31mTypeError\u001b[0m                                 Traceback (most recent call last)",
      "\u001b[0;32m<ipython-input-2-145722c2f2ac>\u001b[0m in \u001b[0;36m<module>\u001b[0;34m\u001b[0m\n\u001b[1;32m      8\u001b[0m \u001b[0;34m\u001b[0m\u001b[0m\n\u001b[1;32m      9\u001b[0m \u001b[0mprint\u001b[0m\u001b[0;34m(\u001b[0m\u001b[0mjson\u001b[0m\u001b[0;34m.\u001b[0m\u001b[0mdumps\u001b[0m\u001b[0;34m(\u001b[0m\u001b[0mlinks\u001b[0m\u001b[0;34m,\u001b[0m \u001b[0mindent\u001b[0m \u001b[0;34m=\u001b[0m \u001b[0;36m2\u001b[0m\u001b[0;34m)\u001b[0m\u001b[0;34m,\u001b[0m \u001b[0mend\u001b[0m \u001b[0;34m=\u001b[0m \u001b[0;34m'\\n\\n'\u001b[0m\u001b[0;34m)\u001b[0m\u001b[0;34m\u001b[0m\u001b[0;34m\u001b[0m\u001b[0m\n\u001b[0;32m---> 10\u001b[0;31m \u001b[0mprint\u001b[0m\u001b[0;34m(\u001b[0m\u001b[0mget_stats\u001b[0m\u001b[0;34m(\u001b[0m\u001b[0mstats\u001b[0m\u001b[0;34m)\u001b[0m\u001b[0;34m.\u001b[0m\u001b[0mreplace\u001b[0m\u001b[0;34m(\u001b[0m\u001b[0;34m','\u001b[0m\u001b[0;34m,\u001b[0m \u001b[0;34m': '\u001b[0m\u001b[0;34m)\u001b[0m\u001b[0;34m)\u001b[0m\u001b[0;34m\u001b[0m\u001b[0;34m\u001b[0m\u001b[0m\n\u001b[0m",
      "\u001b[0;32m~/Documents/tirocinio/sustainability_reports_analysis/csv_links_processing/evaluation_tests/plot_utilities.py\u001b[0m in \u001b[0;36mget_stats\u001b[0;34m(path)\u001b[0m\n\u001b[1;32m     11\u001b[0m     \u001b[0mhome\u001b[0m \u001b[0;34m=\u001b[0m \u001b[0;34m[\u001b[0m\u001b[0;34m[\u001b[0m\u001b[0;34m]\u001b[0m\u001b[0;34m,\u001b[0m\u001b[0;34m[\u001b[0m\u001b[0;34m]\u001b[0m\u001b[0;34m]\u001b[0m\u001b[0;34m\u001b[0m\u001b[0;34m\u001b[0m\u001b[0m\n\u001b[1;32m     12\u001b[0m \u001b[0;34m\u001b[0m\u001b[0m\n\u001b[0;32m---> 13\u001b[0;31m     \u001b[0mstats_list\u001b[0m \u001b[0;34m=\u001b[0m \u001b[0;34m[\u001b[0m\u001b[0mpath\u001b[0m\u001b[0;34m+\u001b[0m\u001b[0;34m\"/\"\u001b[0m\u001b[0;34m+\u001b[0m\u001b[0ml\u001b[0m \u001b[0;32mfor\u001b[0m \u001b[0ml\u001b[0m \u001b[0;32min\u001b[0m \u001b[0msorted\u001b[0m\u001b[0;34m(\u001b[0m\u001b[0mos\u001b[0m\u001b[0;34m.\u001b[0m\u001b[0mlistdir\u001b[0m\u001b[0;34m(\u001b[0m\u001b[0mpath\u001b[0m\u001b[0;34m)\u001b[0m\u001b[0;34m)\u001b[0m\u001b[0;34m]\u001b[0m\u001b[0;34m\u001b[0m\u001b[0;34m\u001b[0m\u001b[0m\n\u001b[0m\u001b[1;32m     14\u001b[0m     \u001b[0;32mfor\u001b[0m \u001b[0mf\u001b[0m \u001b[0;32min\u001b[0m \u001b[0mstats_list\u001b[0m\u001b[0;34m:\u001b[0m\u001b[0;34m\u001b[0m\u001b[0;34m\u001b[0m\u001b[0m\n\u001b[1;32m     15\u001b[0m         \u001b[0;32mwith\u001b[0m \u001b[0mopen\u001b[0m\u001b[0;34m(\u001b[0m\u001b[0mf\u001b[0m\u001b[0;34m,\u001b[0m \u001b[0;34m\"r\"\u001b[0m\u001b[0;34m)\u001b[0m \u001b[0;32mas\u001b[0m \u001b[0ms\u001b[0m\u001b[0;34m:\u001b[0m\u001b[0;34m\u001b[0m\u001b[0;34m\u001b[0m\u001b[0m\n",
      "\u001b[0;31mTypeError\u001b[0m: listdir: path should be string, bytes, os.PathLike, integer or None, not tuple"
     ]
    }
   ],
   "source": [
    "from csv_links_processing import find_reports, get_stats\n",
    "import json\n",
    "\n",
    "csv_dest = \"samples/dest.csv\"\n",
    "stats_dest = \"samples/stats.csv\"\n",
    "\n",
    "links, stats = find_reports(csv_source)\n",
    "\n",
    "print(json.dumps(links, indent = 2), end = '\\n\\n')\n",
    "print(get_stats(stats).replace(',', ': '))"
   ]
  },
  {
   "cell_type": "markdown",
   "metadata": {},
   "source": [
    "## Valutazione link\n",
    "\n",
    "Il valore dello score dipende dalla funzione __evaluate__ , che valuta la pertinenza di un link in merito al tema della sostenibilità.\n",
    "\n",
    "La funzione nello specifico considera il filename, l'url dal quale è stato raggiunto il file e l'anchor, computa uno score, il numero di occorenze di un \"anno\", in questo caso il 2018, e assegna un valore booleano al link."
   ]
  },
  {
   "cell_type": "code",
   "execution_count": null,
   "metadata": {},
   "outputs": [],
   "source": [
    "from csv_links_processing import evaluate\n",
    "\n",
    "ll = [\n",
    "    {\n",
    "        'pdfUrl' : 'www.test.it/sustainability/report-sostenibilità-2018.pdf',\n",
    "        'anchor' : 'Scarica report sostenibilità'\n",
    "    },\n",
    "    {\n",
    "        'pdfUrl' : 'www.test.it/docs/2018/report-ambientale.pdf',\n",
    "        'anchor' : 'Download file'\n",
    "    },\n",
    "    {\n",
    "        'pdfUrl' : 'www.test.it/home/documents/bilancio-economico-2018.pdf',\n",
    "        'anchor' : 'Bilancio economico 2018'\n",
    "    }\n",
    "]\n",
    "\n",
    "for l in ll:\n",
    "    print(\"Evaluation: %s \\nScore: %d, \\n2018 occurrences: %d\\n\" %evaluate(l))\n",
    "    \n"
   ]
  },
  {
   "cell_type": "markdown",
   "metadata": {},
   "source": [
    "## Test valutazioni\n",
    "\n",
    "La funzione valuta come positivi i link che hanno ottenuto uno score di almeno __40__ e nei quali si è trovata almeno un occorrenza di 2018.\n",
    "\n",
    "Le metriche possibili sono molte, quelle testate per la valutazione sono state le seguenti:\n",
    "\n",
    "$$\n",
    "tsh \\in(\\,40, \\,60\\,) \\\\\n",
    "\n",
    "score \\geq tsh, \\;\"2018\"\\,  in \\; (\\, filename \\,or\\,anchor\\,or\\,path\\,) \\\\\n",
    "\n",
    "score \\geq tsh, \\;\"2018\"\\,  in \\; filename \\\\\n",
    "\n",
    "score \\geq tsh, \\;\"2018\"\\,  in \\; anchor \\\\\n",
    "\n",
    "score \\geq tsh, \\;\"2018\"\\,  in \\; (\\, filename \\,or\\,anchor\\,or\\,path\\,) \\\\\n",
    "\n",
    "score \\geq tsh\n",
    "$$\n",
    "\n",
    "Si può notare sempre lo stesso andamento per quanto riguarda le differenze tra le condizioni, mentre la threshold alza o abbassa l'andamento complessivo."
   ]
  },
  {
   "cell_type": "code",
   "execution_count": 34,
   "metadata": {},
   "outputs": [],
   "source": [
    "from csv_links_processing import get_stats, generate_plot\n",
    "import matplotlib.pyplot as plt\n",
    "\n",
    "stp = get_stats(\"csv_links_processing/evaluation_tests/data\")"
   ]
  },
  {
   "cell_type": "markdown",
   "metadata": {},
   "source": [
    "### Numero di siti web che hanno pubblicato il bilancio\n",
    "La stima iniziale di siti che hanno pubblicato, ovvero circa 4000, fatta prima di perferzionare la funzione __evaluation__ era evidentemente errata, infatti le parole chiave erano ricercate nell'url completo, compreso di dominio, senza rimuovere i duplicati e senza dare più importanza alla keyword _sostenibilità_.\n",
    "\n",
    "Il numero di riscontri ora è chiaramente minore, ma si apprezza una pertinenza con il tema della sostenibilità molto più elevata."
   ]
  },
  {
   "cell_type": "code",
   "execution_count": 35,
   "metadata": {},
   "outputs": [
    {
     "data": {
      "image/png": "[encoded data removed]",
      "text/plain": [
       "<Figure size 432x288 with 1 Axes>"
      ]
     },
     "metadata": {
      "needs_background": "light"
     },
     "output_type": "display_data"
    }
   ],
   "source": [
    "i = 0\n",
    "generate_plot(i, stp)\n",
    "plt.show()"
   ]
  },
  {
   "cell_type": "markdown",
   "metadata": {},
   "source": [
    "### Percentuale siti con pubblicazioni"
   ]
  },
  {
   "cell_type": "code",
   "execution_count": null,
   "metadata": {},
   "outputs": [],
   "source": [
    "i = 1\n",
    "generate_plot(i, stp)\n",
    "plt.show()"
   ]
  },
  {
   "cell_type": "markdown",
   "metadata": {},
   "source": [
    "### Numero di pdf utili\n",
    "Si nota che il numero di pdf è sempre maggiore del numero di siti web che pubblicano, questo perchè circa il __18%__ dei siti pubblica un numero che varia da 2 a 4 di pdf che sono ritenuti utili.\n",
    "Può succedere perchè in alcuni casi sono traduzioni dello stesso file, o in alcuni casi un summary, accompagnato dal file completo.\n",
    "\n",
    "Ritengo che si possa accettare uno scenario del genere per il momento, per poi gestirlo nella successiva parte di analisi semantica del testo, andando ad \"unire\" le entità trovate dai vari file."
   ]
  },
  {
   "cell_type": "code",
   "execution_count": null,
   "metadata": {},
   "outputs": [],
   "source": [
    "i = 2\n",
    "generate_plot(i, stp)\n",
    "plt.show()"
   ]
  },
  {
   "cell_type": "markdown",
   "metadata": {},
   "source": [
    "### Percentuale di file pdf utili"
   ]
  },
  {
   "cell_type": "code",
   "execution_count": null,
   "metadata": {},
   "outputs": [],
   "source": [
    "i = 3\n",
    "generate_plot(i, stp)\n",
    "plt.show()"
   ]
  },
  {
   "cell_type": "markdown",
   "metadata": {},
   "source": [
    "### Profondità media dei file"
   ]
  },
  {
   "cell_type": "code",
   "execution_count": null,
   "metadata": {},
   "outputs": [],
   "source": [
    "i = 4\n",
    "generate_plot(i, stp)\n",
    "plt.show()"
   ]
  },
  {
   "cell_type": "markdown",
   "metadata": {},
   "source": [
    "### Numero di link presenti in homepage"
   ]
  },
  {
   "cell_type": "code",
   "execution_count": 57,
   "metadata": {},
   "outputs": [
    {
     "data": {
      "image/png": "[encoded data removed]",
      "text/plain": [
       "<Figure size 432x288 with 1 Axes>"
      ]
     },
     "metadata": {
      "needs_background": "light"
     },
     "output_type": "display_data"
    }
   ],
   "source": [
    "i = 5\n",
    "generate_plot(i, stp)\n",
    "plt.show()"
   ]
  },
  {
   "cell_type": "markdown",
   "metadata": {},
   "source": [
    "# File processing\n",
    "\n",
    "Dopo aver ottenuto la lista di link ( è stata utilizzata la lista ottenuta dalla prima condizione tra quelle testate, essendo quella che tiene in considerazione più file ) i pdf sono stati scaricati e ne è stato estratto il contenuto.\n",
    "\n",
    "Purtroppo il valore iniziale di riscontri si è ristretto a causa di problemi con alcuni file pdf, risultati non convertibili o scaricabili."
   ]
  },
  {
   "cell_type": "code",
   "execution_count": 69,
   "metadata": {},
   "outputs": [
    {
     "data": {
      "text/html": [
       "<div>\n",
       "<style scoped>\n",
       "    .dataframe tbody tr th:only-of-type {\n",
       "        vertical-align: middle;\n",
       "    }\n",
       "\n",
       "    .dataframe tbody tr th {\n",
       "        vertical-align: top;\n",
       "    }\n",
       "\n",
       "    .dataframe thead th {\n",
       "        text-align: right;\n",
       "    }\n",
       "</style>\n",
       "<table border=\"1\" class=\"dataframe\">\n",
       "  <thead>\n",
       "    <tr style=\"text-align: right;\">\n",
       "      <th></th>\n",
       "      <th>stats</th>\n",
       "      <th>value</th>\n",
       "    </tr>\n",
       "  </thead>\n",
       "  <tbody>\n",
       "    <tr>\n",
       "      <th>0</th>\n",
       "      <td>total files</td>\n",
       "      <td>307</td>\n",
       "    </tr>\n",
       "    <tr>\n",
       "      <th>1</th>\n",
       "      <td>file to process</td>\n",
       "      <td>239</td>\n",
       "    </tr>\n",
       "    <tr>\n",
       "      <th>2</th>\n",
       "      <td>file processed</td>\n",
       "      <td>218</td>\n",
       "    </tr>\n",
       "  </tbody>\n",
       "</table>\n",
       "</div>"
      ],
      "text/plain": [
       "             stats  value\n",
       "0      total files    307\n",
       "1  file to process    239\n",
       "2   file processed    218"
      ]
     },
     "execution_count": 69,
     "metadata": {},
     "output_type": "execute_result"
    }
   ],
   "source": [
    "csv_source = \"pdf_ocr/stats.csv\"\n",
    "data = pd.read_csv(csv_source) \n",
    "data"
   ]
  },
  {
   "cell_type": "code",
   "execution_count": 70,
   "metadata": {},
   "outputs": [
    {
     "data": {
      "image/png": "[encoded data removed]",
      "text/plain": [
       "<Figure size 432x288 with 1 Axes>"
      ]
     },
     "metadata": {},
     "output_type": "display_data"
    }
   ],
   "source": [
    "labels = 'Usable', 'OCR errors', 'Download errors'\n",
    "\n",
    "val = list(data['value'])\n",
    "sizes = [val[2], val[1] - val[2], val[0] - val[1]]\n",
    "colors = ['green', 'yellow', 'red']\n",
    "\n",
    "fig1, ax1 = plt.subplots()\n",
    "ax1.pie(sizes, labels=labels, colors=colors, autopct='%1.2f%%', startangle=90)\n",
    "plt.legend(sizes, loc=\"best\")\n",
    "\n",
    "plt.show()"
   ]
  },
  {
   "cell_type": "markdown",
   "metadata": {},
   "source": [
    "# Indicizzazione Elastic\n",
    "\n",
    "Ottenuto il contenuto dei file è stato creato un indice elasticsearch, contenente:\n",
    "\n",
    "1. id atoka dell'azienda\n",
    "2. nome\n",
    "3. indirizzo\n",
    "4. ricavi\n",
    "5. numero di dipendenti\n",
    "6. testo contenuto nel documento pdf\n",
    "7. entità principali del testo\n",
    "8. tutte le entità del testo\n",
    "9. url del file pdf\n",
    "10. score della funzione evaluate sul singolo link\n",
    "\n",
    "Le informazioni sulle azienda sono state ottenute con Atoka API, mentre quelle sulle entità da Dandelion API. "
   ]
  }
 ],
 "metadata": {
  "kernelspec": {
   "display_name": "Python 3",
   "language": "python",
   "name": "python3"
  },
  "language_info": {
   "codemirror_mode": {
    "name": "ipython",
    "version": 3
   },
   "file_extension": ".py",
   "mimetype": "text/x-python",
   "name": "python",
   "nbconvert_exporter": "python",
   "pygments_lexer": "ipython3",
   "version": "3.8.2"
  },
  "widgets": {
   "application/vnd.jupyter.widget-state+json": {
    "state": {},
    "version_major": 2,
    "version_minor": 0
   }
  }
 },
 "nbformat": 4,
 "nbformat_minor": 4
}
