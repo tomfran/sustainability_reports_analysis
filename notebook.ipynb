{
 "cells": [
  {
   "cell_type": "markdown",
   "metadata": {
    "scrolled": true
   },
   "source": [
    "# Sustainability reports analysis\n",
    "\n",
    "# Introduzione\n",
    "\n",
    "L'obbiettivo della repository è quello di estrarre informazioni sui bilanci di sostenibilitò delle aziende italiane pubblicati nell'anno 2018.\n",
    "\n",
    "# Processo\n",
    " \n",
    "Il processo di analisi è così composto.\n",
    "1. processing di un file csv contentente siti e web e link presenti su essi\n",
    "2. download dei file ritenuti utili all'analisi\n",
    "3. estrazione del testo dai file scaricati\n",
    "4. indicizzazione elasticsearch con le informazioni estratte dalle aziene e delle entità estratte dai testi dei documenti\n",
    "5. analisi dei dati raccolti\n",
    "\n",
    "# Processing link csv\n",
    "\n",
    "Il punto di partenza è costituito da un csv con un insieme di coppie __website__ , __pdf_dump__:\n",
    "- Il primo è il dominio del sito web di cui sono stati estratti i pdf.\n",
    "- Il secondo è una lista di oggetti che contengono:\n",
    "    1. Url della pagina a cui è stato trovato il link\n",
    "    2. Url del file pdf in questione\n",
    "    3. Anchor del file nella pagina\n",
    "    4. Sequenza di blocchi html in cui si trova l'anchor\n",
    "    \n",
    "L'obbiettivo della prima fase è quello di estrarre dal totale dei link, solo quelli utili, ovvero quelli che possono rappresentare un probabile bilancio di sostenibilità 2018.\n",
    "\n",
    "Prendiamo per semplicità un insieme ridotto e applichiamo il processo in questione."
   ]
  },
  {
   "cell_type": "code",
   "execution_count": 22,
   "metadata": {},
   "outputs": [
    {
     "data": {
      "text/html": [
       "<div>\n",
       "<style scoped>\n",
       "    .dataframe tbody tr th:only-of-type {\n",
       "        vertical-align: middle;\n",
       "    }\n",
       "\n",
       "    .dataframe tbody tr th {\n",
       "        vertical-align: top;\n",
       "    }\n",
       "\n",
       "    .dataframe thead th {\n",
       "        text-align: right;\n",
       "    }\n",
       "</style>\n",
       "<table border=\"1\" class=\"dataframe\">\n",
       "  <thead>\n",
       "    <tr style=\"text-align: right;\">\n",
       "      <th></th>\n",
       "      <th>domain</th>\n",
       "      <th>pdf_dump</th>\n",
       "    </tr>\n",
       "  </thead>\n",
       "  <tbody>\n",
       "    <tr>\n",
       "      <th>0</th>\n",
       "      <td>www.iav.com</td>\n",
       "      <td>[{\"sourcePageUrl\":\"https://www.iav.com/en/comp...</td>\n",
       "    </tr>\n",
       "    <tr>\n",
       "      <th>1</th>\n",
       "      <td>www.enel.com</td>\n",
       "      <td>[{\"sourcePageUrl\":\"https://www.enel.com/es/his...</td>\n",
       "    </tr>\n",
       "    <tr>\n",
       "      <th>2</th>\n",
       "      <td>www.icpaoloterzo.edu.it</td>\n",
       "      <td>[{\"sourcePageUrl\":\"https://www.icpaoloterzo.ed...</td>\n",
       "    </tr>\n",
       "    <tr>\n",
       "      <th>3</th>\n",
       "      <td>www.cartadaformaggio.it</td>\n",
       "      <td>[{\"sourcePageUrl\":\"http://www.cartadaformaggio...</td>\n",
       "    </tr>\n",
       "    <tr>\n",
       "      <th>4</th>\n",
       "      <td>www.cartadimilano.org</td>\n",
       "      <td>[{\"sourcePageUrl\":\"http://www.cartadimilano.or...</td>\n",
       "    </tr>\n",
       "  </tbody>\n",
       "</table>\n",
       "</div>"
      ],
      "text/plain": [
       "                    domain                                           pdf_dump\n",
       "0              www.iav.com  [{\"sourcePageUrl\":\"https://www.iav.com/en/comp...\n",
       "1             www.enel.com  [{\"sourcePageUrl\":\"https://www.enel.com/es/his...\n",
       "2  www.icpaoloterzo.edu.it  [{\"sourcePageUrl\":\"https://www.icpaoloterzo.ed...\n",
       "3  www.cartadaformaggio.it  [{\"sourcePageUrl\":\"http://www.cartadaformaggio...\n",
       "4    www.cartadimilano.org  [{\"sourcePageUrl\":\"http://www.cartadimilano.or..."
      ]
     },
     "execution_count": 22,
     "metadata": {},
     "output_type": "execute_result"
    }
   ],
   "source": [
    "import pandas as pd\n",
    "\n",
    "csv_source = \"samples/small.csv\"\n",
    "\n",
    "data = pd.read_csv(csv_source) \n",
    "data.head()"
   ]
  },
  {
   "cell_type": "markdown",
   "metadata": {},
   "source": [
    "La procedura legge da un file di input e restituisce un dizionario contenente:\n",
    "\n",
    "__website__: lista di __link__, con url e score."
   ]
  },
  {
   "cell_type": "code",
   "execution_count": 21,
   "metadata": {},
   "outputs": [
    {
     "name": "stdout",
     "output_type": "stream",
     "text": [
      "{\n",
      "  \"www.iav.com\": [\n",
      "    {\n",
      "      \"url\": \"https://www.iav.com/app/uploads/2019/02/IAV_Sustainability_Report_2018.pdf\",\n",
      "      \"score\": 60\n",
      "    }\n",
      "  ],\n",
      "  \"www.enel.com\": [\n",
      "    {\n",
      "      \"url\": \"https://www.enel.com/content/dam/enel-com/governance_pdf/reports/bilanci-annuali/2018/bilancio-di-sostenibilita-2018.pdf\",\n",
      "      \"score\": 60\n",
      "    },\n",
      "    {\n",
      "      \"url\": \"https://www.enel.com/content/dam/enel-com/governance_pdf/reports/annual-financial-report/2018/sustainability-report-2018.pdf\",\n",
      "      \"score\": 60\n",
      "    }\n",
      "  ]\n",
      "}\n",
      "\n",
      "metric: value\n",
      "Total websites: 5\n",
      "Websites who published: 2\n",
      "Published percentage: 40.000000\n",
      "Total links: 65\n",
      "Probable sustainability pdfs links: 3\n",
      "Useful pdfs percentage: 4.615385\n",
      "Average depth: 2.000000\n",
      "Pdfs in homepage: 1\n"
     ]
    }
   ],
   "source": [
    "from csv_links_processing import find_reports, get_stats\n",
    "import json\n",
    "\n",
    "csv_dest = \"samples/dest.csv\"\n",
    "stats_dest = \"samples/stats.csv\"\n",
    "\n",
    "links, stats = find_reports(csv_source)\n",
    "\n",
    "print(json.dumps(links, indent = 2), end = '\\n\\n')\n",
    "print(get_stats(stats).replace(',', ': '))"
   ]
  },
  {
   "cell_type": "markdown",
   "metadata": {},
   "source": [
    "## Valutazione link\n",
    "\n",
    "Il valore dello score dipende dalla funzione __evaluate__ , che valuta la pertinenza di un link in merito al tema della sostenibilità.\n",
    "\n",
    "La funzione nello specifico considera il filename, l'url dal quale è stato raggiunto il file e l'anchor, computa uno score, il numero di occorenze di un \"anno\", in questo caso il 2018, e assegna un valore booleano al link."
   ]
  },
  {
   "cell_type": "code",
   "execution_count": 20,
   "metadata": {},
   "outputs": [
    {
     "name": "stdout",
     "output_type": "stream",
     "text": [
      "Evaluation: True \n",
      "Score: 70, \n",
      "2018 occurrences: 1\n",
      "\n",
      "Evaluation: True \n",
      "Score: 40, \n",
      "2018 occurrences: 1\n",
      "\n",
      "Evaluation: False \n",
      "Score: 20, \n",
      "2018 occurrences: 2\n",
      "\n"
     ]
    }
   ],
   "source": [
    "from csv_links_processing import evaluate\n",
    "\n",
    "ll = [\n",
    "    {\n",
    "        'pdfUrl' : 'www.test.it/sustainability/report-sostenibilità-2018.pdf',\n",
    "        'anchor' : 'Scarica report sostenibilità'\n",
    "    },\n",
    "    {\n",
    "        'pdfUrl' : 'www.test.it/docs/2018/report-ambientale.pdf',\n",
    "        'anchor' : 'Download file'\n",
    "    },\n",
    "    {\n",
    "        'pdfUrl' : 'www.test.it/home/documents/bilancio-economico-2018.pdf',\n",
    "        'anchor' : 'Bilancio economico 2018'\n",
    "    }\n",
    "]\n",
    "\n",
    "for l in ll:\n",
    "    print(\"Evaluation: %s \\nScore: %d, \\n2018 occurrences: %d\\n\" %evaluate(l))\n",
    "    \n"
   ]
  },
  {
   "cell_type": "markdown",
   "metadata": {},
   "source": [
    "## Test valutazioni\n",
    "\n",
    "La funzione valuta come positivi i link che hanno ottenuto uno score di almeno __40__ e nei quali si è trovata almeno un occorrenza di 2018.\n",
    "\n",
    "Le metriche possibili sono molte, quelle testate per la valutazione sono state le seguenti:\n",
    "\n",
    "$$tsh \\in(\\,40, \\,60\\,)$$\n",
    "\n",
    "$$score \\geq tsh, \\;\"2018\"\\,  in \\; (\\, filename \\,or\\,anchor\\,or\\,path\\,)$$\n",
    "\n",
    "$$score \\geq tsh, \\;\"2018\"\\,  in \\; filename$$\n",
    "\n",
    "$$score \\geq tsh, \\;\"2018\"\\,  in \\; anchor$$\n",
    "\n",
    "$$score \\geq tsh, \\;\"2018\"\\,  in \\; (\\, filename \\,or\\,anchor\\,or\\,path\\,)$$\n",
    "\n",
    "$$score \\geq tsh$$\n",
    "\n",
    "Si può notare sempre lo stesso andamento per quanto riguarda le differenze tra le condizioni, mentre la threshold alza o abbassa l'andamento complessivo.\n",
    "\n",
    "### Numero di siti web che hanno pubblicato il bilancio\n",
    "La stima iniziale di siti che hanno pubblicato, ovvero circa 4000, fatta prima di perferzionare la funzione __evaluation__ era evidentemente errata, infatti le parole chiave erano ricercate nell'url completo, compreso di dominio, senza rimuovere i duplicati e senza dare più importanza alla keyword _sostenibilità_.\n",
    "Il numero di riscontri ora è chiaramente minore, ma si apprezza una pertinenza con il tema della sostenibilità molto più elevata."
   ]
  },
  {
   "cell_type": "code",
   "execution_count": 19,
   "metadata": {},
   "outputs": [],
   "source": [
    "## grafici, da aggiungere"
   ]
  },
  {
   "cell_type": "markdown",
   "metadata": {},
   "source": [
    "### Percentuale siti con pubblicazioni"
   ]
  },
  {
   "cell_type": "code",
   "execution_count": null,
   "metadata": {},
   "outputs": [],
   "source": [
    "## grafici, da aggiungere"
   ]
  },
  {
   "cell_type": "markdown",
   "metadata": {},
   "source": [
    "### Numero di pdf utili\n",
    "Si nota che il numero di pdf è sempre maggiore del numero di siti web che pubblicano, questo perchè circa il __18%__ dei siti pubblica un numero che varia da 2 a 4 di pdf che sono ritenuti utili.\n",
    "Può succedere perchè in alcuni casi sono traduzioni dello stesso file, o in alcuni casi un summary, accompagnato dal file completo.\n",
    "Ritengo che si possa accettare uno scenario del genere per il momento, per poi gestirlo nella successiva parte di analisi semantica del testo, andando ad \"unire\" le entità trovate dai vari file."
   ]
  },
  {
   "cell_type": "code",
   "execution_count": null,
   "metadata": {},
   "outputs": [],
   "source": [
    "## grafici, da aggiungere"
   ]
  },
  {
   "cell_type": "markdown",
   "metadata": {},
   "source": [
    "### Percentuale di file pdf utili"
   ]
  },
  {
   "cell_type": "code",
   "execution_count": null,
   "metadata": {},
   "outputs": [],
   "source": [
    "## grafici, da aggiungere"
   ]
  },
  {
   "cell_type": "markdown",
   "metadata": {},
   "source": [
    "### Profondità media dei file"
   ]
  },
  {
   "cell_type": "code",
   "execution_count": null,
   "metadata": {},
   "outputs": [],
   "source": [
    "## grafici, da aggiungere"
   ]
  },
  {
   "cell_type": "markdown",
   "metadata": {},
   "source": [
    "### Numero di link presenti in homepage"
   ]
  },
  {
   "cell_type": "code",
   "execution_count": 23,
   "metadata": {},
   "outputs": [],
   "source": [
    "## grafici, da aggiungere"
   ]
  }
 ],
 "metadata": {
  "kernelspec": {
   "display_name": "Python 3",
   "language": "python",
   "name": "python3"
  },
  "language_info": {
   "codemirror_mode": {
    "name": "ipython",
    "version": 3
   },
   "file_extension": ".py",
   "mimetype": "text/x-python",
   "name": "python",
   "nbconvert_exporter": "python",
   "pygments_lexer": "ipython3",
   "version": "3.8.2"
  },
  "widgets": {
   "application/vnd.jupyter.widget-state+json": {
    "state": {},
    "version_major": 2,
    "version_minor": 0
   }
  }
 },
 "nbformat": 4,
 "nbformat_minor": 4
}
